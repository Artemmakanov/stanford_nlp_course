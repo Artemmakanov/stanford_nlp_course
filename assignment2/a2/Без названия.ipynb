{
 "cells": [
  {
   "cell_type": "code",
   "execution_count": 331,
   "id": "f2e97035",
   "metadata": {},
   "outputs": [],
   "source": [
    "import numpy as np"
   ]
  },
  {
   "cell_type": "code",
   "execution_count": 332,
   "id": "8e76e2e9",
   "metadata": {},
   "outputs": [],
   "source": [
    "dimension = 5\n",
    "vocab_size = 8\n",
    "K = 5\n"
   ]
  },
  {
   "cell_type": "code",
   "execution_count": 333,
   "id": "06455790",
   "metadata": {},
   "outputs": [
    {
     "data": {
      "text/plain": [
       "array([-0.19277778,  0.40293471,  0.96118759,  0.09574369, -0.19438617])"
      ]
     },
     "execution_count": 333,
     "metadata": {},
     "output_type": "execute_result"
    }
   ],
   "source": [
    "centerWordVec = np.random.uniform(-1, 1, dimension)\n",
    "centerWordVec "
   ]
  },
  {
   "cell_type": "code",
   "execution_count": 334,
   "id": "668278a6",
   "metadata": {},
   "outputs": [
    {
     "data": {
      "text/plain": [
       "array([[-0.00465252, -0.84181683,  0.82835072,  0.96323092, -0.35028665],\n",
       "       [-0.41373002,  0.57167313, -0.10218013,  0.74802833, -0.59345567],\n",
       "       [ 0.79003104,  0.41784399, -0.88993655,  0.89801779,  0.77627816],\n",
       "       [ 0.99778389,  0.26310098, -0.7752117 , -0.92064291, -0.79088009],\n",
       "       [-0.03829698, -0.06714139, -0.81687983, -0.14829662,  0.26541461],\n",
       "       [-0.63112357, -0.19095941, -0.2926567 ,  0.86031149, -0.96139777],\n",
       "       [-0.48027176, -0.79696242,  0.53388056,  0.64311424, -0.78993094],\n",
       "       [-0.07050735,  0.98148102,  0.3560128 , -0.81101499,  0.49240924]])"
      ]
     },
     "execution_count": 334,
     "metadata": {},
     "output_type": "execute_result"
    }
   ],
   "source": [
    "outsideVectors = np.random.uniform(-1, 1, (vocab_size, dimension))\n",
    "outsideVectors"
   ]
  },
  {
   "cell_type": "code",
   "execution_count": 335,
   "id": "a8f4060e",
   "metadata": {},
   "outputs": [
    {
     "data": {
      "text/plain": [
       "1"
      ]
     },
     "execution_count": 335,
     "metadata": {},
     "output_type": "execute_result"
    }
   ],
   "source": [
    "outsideWordIdx = np.random.randint(0, vocab_size, 1).item()\n",
    "outsideWordIdx"
   ]
  },
  {
   "cell_type": "code",
   "execution_count": 336,
   "id": "7ba59ee7",
   "metadata": {},
   "outputs": [
    {
     "data": {
      "text/plain": [
       "[1, 4, 6, 6, 6]"
      ]
     },
     "execution_count": 336,
     "metadata": {},
     "output_type": "execute_result"
    }
   ],
   "source": [
    "negSampleWordIndices = list(np.random.randint(0, vocab_size, K))\n",
    "negSampleWordIndices"
   ]
  },
  {
   "cell_type": "code",
   "execution_count": 337,
   "id": "dd4893de",
   "metadata": {},
   "outputs": [],
   "source": [
    "indices = [outsideWordIdx] + negSampleWordIndices\n",
    "indices\n",
    "indices = [1,2,3,4,5,6]\n"
   ]
  },
  {
   "cell_type": "code",
   "execution_count": 338,
   "id": "26a3272a",
   "metadata": {},
   "outputs": [
    {
     "data": {
      "text/plain": [
       "array([-0.41373002,  0.57167313, -0.10218013,  0.74802833, -0.59345567])"
      ]
     },
     "execution_count": 338,
     "metadata": {},
     "output_type": "execute_result"
    }
   ],
   "source": [
    "outsideVectors[indices[0]]"
   ]
  },
  {
   "cell_type": "code",
   "execution_count": 339,
   "id": "be510815",
   "metadata": {},
   "outputs": [
    {
     "data": {
      "text/plain": [
       "array([[ 0.79003104,  0.41784399, -0.88993655,  0.89801779,  0.77627816],\n",
       "       [ 0.99778389,  0.26310098, -0.7752117 , -0.92064291, -0.79088009],\n",
       "       [-0.03829698, -0.06714139, -0.81687983, -0.14829662,  0.26541461],\n",
       "       [-0.63112357, -0.19095941, -0.2926567 ,  0.86031149, -0.96139777],\n",
       "       [-0.48027176, -0.79696242,  0.53388056,  0.64311424, -0.78993094]])"
      ]
     },
     "execution_count": 339,
     "metadata": {},
     "output_type": "execute_result"
    }
   ],
   "source": [
    "outsideVectors[indices[1:]]"
   ]
  },
  {
   "cell_type": "code",
   "execution_count": 340,
   "id": "412f519e",
   "metadata": {},
   "outputs": [],
   "source": [
    "def sigmoid(x):\n",
    "    s = 1 / ( 1 + np.exp(-x))\n",
    "    return s"
   ]
  },
  {
   "cell_type": "code",
   "execution_count": null,
   "id": "20e6c3b7",
   "metadata": {},
   "outputs": [],
   "source": []
  },
  {
   "cell_type": "code",
   "execution_count": null,
   "id": "492112d8",
   "metadata": {},
   "outputs": [],
   "source": []
  },
  {
   "cell_type": "code",
   "execution_count": null,
   "id": "d06519d1",
   "metadata": {},
   "outputs": [],
   "source": []
  },
  {
   "cell_type": "code",
   "execution_count": 341,
   "id": "8ec7673a",
   "metadata": {},
   "outputs": [
    {
     "data": {
      "text/plain": [
       "array([-1.05830474, -1.45402694, -1.18341821, -1.52484837, -0.98612978])"
      ]
     },
     "execution_count": 341,
     "metadata": {},
     "output_type": "execute_result"
    }
   ],
   "source": [
    "gradCenterVec = outsideVectors[indices[0]] * \\\n",
    "    (sigmoid( outsideVectors[indices[0]].dot(centerWordVec) ) - 1) + \\\n",
    "    np.sum( outsideVectors[indices[1:]] * \\\n",
    "    (1 - sigmoid( - outsideVectors[indices[1:]].dot(centerWordVec.reshape(centerWordVec.shape[0],1)) ) ) )\n",
    "gradCenterVec"
   ]
  },
  {
   "cell_type": "code",
   "execution_count": 342,
   "id": "27c5c3c7",
   "metadata": {},
   "outputs": [
    {
     "data": {
      "text/plain": [
       "array([ 0.16614738, -0.22957482,  0.04103391, -0.30039625,  0.23832234])"
      ]
     },
     "execution_count": 342,
     "metadata": {},
     "output_type": "execute_result"
    }
   ],
   "source": [
    "term1 = outsideVectors[indices[0]] * \\\n",
    "    (sigmoid( outsideVectors[indices[0]].dot(centerWordVec) ) - 1)\n",
    "term1"
   ]
  },
  {
   "cell_type": "code",
   "execution_count": 343,
   "id": "35a85db5",
   "metadata": {},
   "outputs": [
    {
     "data": {
      "text/plain": [
       "array([ 0.31666953,  0.08350111, -0.24603115, -0.29218707, -0.25100388])"
      ]
     },
     "execution_count": 343,
     "metadata": {},
     "output_type": "execute_result"
    }
   ],
   "source": [
    "outsideVectors[indices[2]] * \\\n",
    "    (1 - sigmoid( - outsideVectors[indices[2]].dot(centerWordVec.reshape(centerWordVec.shape[0],1)) ) )"
   ]
  },
  {
   "cell_type": "code",
   "execution_count": 344,
   "id": "e6c617bb",
   "metadata": {},
   "outputs": [
    {
     "data": {
      "text/plain": [
       "array([[ 0.22766937,  0.12041334, -0.25645991,  0.25878875,  0.22370609],\n",
       "       [ 0.31666953,  0.08350111, -0.24603115, -0.29218707, -0.25100388],\n",
       "       [-0.01130227, -0.01981489, -0.24107903, -0.04376556,  0.07832963],\n",
       "       [-0.32071702, -0.09703953, -0.14871887,  0.43718306, -0.48855191],\n",
       "       [-0.29892109, -0.49602932,  0.3322872 ,  0.40027423, -0.49165292]])"
      ]
     },
     "execution_count": 344,
     "metadata": {},
     "output_type": "execute_result"
    }
   ],
   "source": [
    "outsideVectors[indices[1:]] * \\\n",
    "    (1 - sigmoid( - outsideVectors[indices[1:]].dot(centerWordVec.reshape(centerWordVec.shape[0],1)) ) )"
   ]
  },
  {
   "cell_type": "code",
   "execution_count": 345,
   "id": "54771378",
   "metadata": {},
   "outputs": [
    {
     "data": {
      "text/plain": [
       "array([-0.08660149, -0.40896928, -0.56000177,  0.7602934 , -0.92917298])"
      ]
     },
     "execution_count": 345,
     "metadata": {},
     "output_type": "execute_result"
    }
   ],
   "source": [
    "np.sum( outsideVectors[indices[1:]] * \\\n",
    "    (1 - sigmoid( - outsideVectors[indices[1:]].dot(centerWordVec.reshape(centerWordVec.shape[0],1)) ) ), axis = 0 )"
   ]
  },
  {
   "cell_type": "code",
   "execution_count": null,
   "id": "a8151b4b",
   "metadata": {},
   "outputs": [],
   "source": []
  },
  {
   "cell_type": "code",
   "execution_count": null,
   "id": "1b1cd0b5",
   "metadata": {},
   "outputs": [],
   "source": []
  },
  {
   "cell_type": "code",
   "execution_count": null,
   "id": "8bac85aa",
   "metadata": {},
   "outputs": [],
   "source": []
  },
  {
   "cell_type": "code",
   "execution_count": 346,
   "id": "5759d8c5",
   "metadata": {},
   "outputs": [
    {
     "data": {
      "text/plain": [
       "array([[0.71182225],\n",
       "       [0.68262714],\n",
       "       [0.70487821],\n",
       "       [0.49183166],\n",
       "       [0.37760011]])"
      ]
     },
     "execution_count": 346,
     "metadata": {},
     "output_type": "execute_result"
    }
   ],
   "source": [
    "sigmoid( - outsideVectors[indices[1:]].dot(centerWordVec.reshape(centerWordVec.shape[0],1)))"
   ]
  },
  {
   "cell_type": "code",
   "execution_count": 347,
   "id": "ca33ea54",
   "metadata": {},
   "outputs": [],
   "source": [
    "gradOutsideVecs = np.zeros(outsideVectors.shape)"
   ]
  },
  {
   "cell_type": "code",
   "execution_count": 348,
   "id": "4903094d",
   "metadata": {},
   "outputs": [
    {
     "data": {
      "text/plain": [
       "array([[ 0.        ,  0.        ,  0.        ,  0.        ,  0.        ],\n",
       "       [ 0.07741648, -0.16181216, -0.38599761, -0.03844914,  0.07806239],\n",
       "       [-0.05555427,  0.11611682,  0.27699288,  0.0275912 , -0.05601777],\n",
       "       [-0.06118244,  0.12788054,  0.30505485,  0.03038645, -0.0616929 ],\n",
       "       [-0.05689292,  0.11891481,  0.2836674 ,  0.02825605, -0.0573676 ],\n",
       "       [-0.09796357,  0.20475866,  0.4884451 ,  0.04865391, -0.0987809 ],\n",
       "       [-0.11998487,  0.25078652,  0.59824304,  0.05959086, -0.12098593],\n",
       "       [ 0.        ,  0.        ,  0.        ,  0.        ,  0.        ]])"
      ]
     },
     "execution_count": 348,
     "metadata": {},
     "output_type": "execute_result"
    }
   ],
   "source": [
    "for index in indices[1:]:\n",
    "    gradOutsideVecs[index] += centerWordVec * (1 - sigmoid( - outsideVectors[index].dot(centerWordVec) ))\n",
    "gradOutsideVecs[indices[0]] += centerWordVec * ( sigmoid( outsideVectors[indices[0]].dot(centerWordVec) ) - 1)\n",
    "gradOutsideVecs"
   ]
  },
  {
   "cell_type": "code",
   "execution_count": 349,
   "id": "099f2730",
   "metadata": {},
   "outputs": [
    {
     "data": {
      "text/plain": [
       "array([[ 0.        ,  0.        ,  0.        ,  0.        ,  0.        ],\n",
       "       [ 0.07741648, -0.16181216, -0.38599761, -0.03844914,  0.07806239],\n",
       "       [-0.0833314 ,  0.17417523,  0.41548932,  0.0413868 , -0.08402666],\n",
       "       [-0.09177365,  0.19182081,  0.45758228,  0.04557967, -0.09253934],\n",
       "       [-0.08533938,  0.17837222,  0.4255011 ,  0.04238407, -0.08605139],\n",
       "       [-0.14694535,  0.30713799,  0.73266765,  0.07298087, -0.14817135],\n",
       "       [-0.1799773 ,  0.37617978,  0.89736457,  0.08938629, -0.1814789 ],\n",
       "       [ 0.        ,  0.        ,  0.        ,  0.        ,  0.        ]])"
      ]
     },
     "execution_count": 349,
     "metadata": {},
     "output_type": "execute_result"
    }
   ],
   "source": [
    "gradOutsideVecs[indices[1:]] += \\\n",
    "    centerWordVec * \\\n",
    "    ( 1 - sigmoid( - outsideVectors[indices[1:]].dot(centerWordVec.reshape(centerWordVec.shape[0],1))) )/2\n",
    "gradOutsideVecs[indices[0]] = centerWordVec * ( sigmoid( outsideVectors[indices[0]].dot(centerWordVec) ) - 1)\n",
    "gradOutsideVecs"
   ]
  },
  {
   "cell_type": "code",
   "execution_count": 350,
   "id": "2a5fe442",
   "metadata": {},
   "outputs": [
    {
     "data": {
      "text/plain": [
       "[1, 2, 3, 4, 5, 6]"
      ]
     },
     "execution_count": 350,
     "metadata": {},
     "output_type": "execute_result"
    }
   ],
   "source": [
    "indices"
   ]
  },
  {
   "cell_type": "code",
   "execution_count": 351,
   "id": "afe7ca58",
   "metadata": {},
   "outputs": [
    {
     "data": {
      "text/plain": [
       "array([[-0.05555427,  0.11611682,  0.27699288,  0.0275912 , -0.05601777],\n",
       "       [-0.06118244,  0.12788054,  0.30505485,  0.03038645, -0.0616929 ],\n",
       "       [-0.05689292,  0.11891481,  0.2836674 ,  0.02825605, -0.0573676 ],\n",
       "       [-0.09796357,  0.20475866,  0.4884451 ,  0.04865391, -0.0987809 ],\n",
       "       [-0.11998487,  0.25078652,  0.59824304,  0.05959086, -0.12098593]])"
      ]
     },
     "execution_count": 351,
     "metadata": {},
     "output_type": "execute_result"
    }
   ],
   "source": [
    " centerWordVec*( 1 - sigmoid( - outsideVectors[indices[1:]].dot(centerWordVec.reshape(centerWordVec.shape[0],1))) )"
   ]
  },
  {
   "cell_type": "code",
   "execution_count": null,
   "id": "1fb42fb3",
   "metadata": {},
   "outputs": [],
   "source": []
  },
  {
   "cell_type": "code",
   "execution_count": null,
   "id": "6bd608a0",
   "metadata": {},
   "outputs": [],
   "source": []
  },
  {
   "cell_type": "code",
   "execution_count": null,
   "id": "72c9c309",
   "metadata": {},
   "outputs": [],
   "source": []
  },
  {
   "cell_type": "code",
   "execution_count": 352,
   "id": "86dd6464",
   "metadata": {},
   "outputs": [
    {
     "data": {
      "text/plain": [
       "array([[0., 0., 0., 0., 0.],\n",
       "       [1., 1., 1., 1., 1.],\n",
       "       [1., 1., 1., 1., 1.],\n",
       "       [1., 1., 1., 1., 1.],\n",
       "       [0., 0., 0., 0., 0.],\n",
       "       [0., 0., 0., 0., 0.],\n",
       "       [0., 0., 0., 0., 0.],\n",
       "       [0., 0., 0., 0., 0.]])"
      ]
     },
     "execution_count": 352,
     "metadata": {},
     "output_type": "execute_result"
    }
   ],
   "source": [
    "indices = [1,2,3]\n",
    "gradOutsideVecs = np.zeros(outsideVectors.shape)\n",
    "gradOutsideVecs[indices] += 1\n",
    "gradOutsideVecs"
   ]
  },
  {
   "cell_type": "code",
   "execution_count": null,
   "id": "707a0cb6",
   "metadata": {},
   "outputs": [],
   "source": []
  },
  {
   "cell_type": "code",
   "execution_count": null,
   "id": "c4f0ed52",
   "metadata": {},
   "outputs": [],
   "source": []
  }
 ],
 "metadata": {
  "kernelspec": {
   "display_name": "Python 3",
   "language": "python",
   "name": "python3"
  },
  "language_info": {
   "codemirror_mode": {
    "name": "ipython",
    "version": 3
   },
   "file_extension": ".py",
   "mimetype": "text/x-python",
   "name": "python",
   "nbconvert_exporter": "python",
   "pygments_lexer": "ipython3",
   "version": "3.7.11"
  }
 },
 "nbformat": 4,
 "nbformat_minor": 5
}
