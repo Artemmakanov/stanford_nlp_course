{
 "cells": [
  {
   "cell_type": "code",
   "execution_count": 47,
   "id": "da81629e",
   "metadata": {},
   "outputs": [],
   "source": [
    "import numpy as np"
   ]
  },
  {
   "cell_type": "code",
   "execution_count": 48,
   "id": "851a581b",
   "metadata": {},
   "outputs": [],
   "source": [
    "dimension = 5\n",
    "vocab_size = 8\n",
    "K = 3\n"
   ]
  },
  {
   "cell_type": "code",
   "execution_count": 49,
   "id": "7f1b4b96",
   "metadata": {},
   "outputs": [
    {
     "data": {
      "text/plain": [
       "array([ 0.01206349, -0.66838386,  0.55793417,  0.12318428, -0.28515157])"
      ]
     },
     "execution_count": 49,
     "metadata": {},
     "output_type": "execute_result"
    }
   ],
   "source": [
    "centerWordVec = np.random.uniform(-1, 1, dimension)\n",
    "centerWordVec "
   ]
  },
  {
   "cell_type": "code",
   "execution_count": 50,
   "id": "8607d5c2",
   "metadata": {},
   "outputs": [
    {
     "data": {
      "text/plain": [
       "array([[-0.99717022, -0.58187803, -0.66788013,  0.95120361,  0.25601231],\n",
       "       [ 0.01757602,  0.5611345 ,  0.36461219, -0.36451874,  0.61011089],\n",
       "       [ 0.34468122, -0.6932125 ,  0.96403095,  0.08479074,  0.1577591 ],\n",
       "       [ 0.50041582, -0.65510424, -0.98905621,  0.95970433, -0.53742663],\n",
       "       [ 0.15349818, -0.80025073, -0.06908934, -0.88050493, -0.62793095],\n",
       "       [ 0.25019333,  0.53186639, -0.68841419, -0.97645016,  0.91050752],\n",
       "       [-0.22111875, -0.45054074, -0.20467576,  0.65166636, -0.2114702 ],\n",
       "       [-0.3860961 , -0.45620183, -0.45636863, -0.70527718,  0.86947551]])"
      ]
     },
     "execution_count": 50,
     "metadata": {},
     "output_type": "execute_result"
    }
   ],
   "source": [
    "outsideVectors = np.random.uniform(-1, 1, (vocab_size, dimension))\n",
    "outsideVectors"
   ]
  },
  {
   "cell_type": "code",
   "execution_count": 51,
   "id": "831aef22",
   "metadata": {},
   "outputs": [
    {
     "data": {
      "text/plain": [
       "0"
      ]
     },
     "execution_count": 51,
     "metadata": {},
     "output_type": "execute_result"
    }
   ],
   "source": [
    "outsideWordIdx = np.random.randint(0, vocab_size, 1).item()\n",
    "outsideWordIdx"
   ]
  },
  {
   "cell_type": "code",
   "execution_count": 52,
   "id": "96ecbd54",
   "metadata": {},
   "outputs": [
    {
     "data": {
      "text/plain": [
       "[2, 4, 6]"
      ]
     },
     "execution_count": 52,
     "metadata": {},
     "output_type": "execute_result"
    }
   ],
   "source": [
    "negSampleWordIndices = list(np.random.randint(0, vocab_size, K))\n",
    "negSampleWordIndices"
   ]
  },
  {
   "cell_type": "code",
   "execution_count": 53,
   "id": "43c2513f",
   "metadata": {},
   "outputs": [
    {
     "data": {
      "text/plain": [
       "[0, 2, 4, 6]"
      ]
     },
     "execution_count": 53,
     "metadata": {},
     "output_type": "execute_result"
    }
   ],
   "source": [
    "indices = [outsideWordIdx] + negSampleWordIndices\n",
    "indices"
   ]
  },
  {
   "cell_type": "code",
   "execution_count": 54,
   "id": "1aa08885",
   "metadata": {},
   "outputs": [
    {
     "data": {
      "text/plain": [
       "array([-0.99717022, -0.58187803, -0.66788013,  0.95120361,  0.25601231])"
      ]
     },
     "execution_count": 54,
     "metadata": {},
     "output_type": "execute_result"
    }
   ],
   "source": [
    "outsideVectors[indices[0]]"
   ]
  },
  {
   "cell_type": "code",
   "execution_count": 55,
   "id": "a2c67953",
   "metadata": {},
   "outputs": [
    {
     "data": {
      "text/plain": [
       "array([[ 0.34468122, -0.6932125 ,  0.96403095,  0.08479074,  0.1577591 ],\n",
       "       [ 0.15349818, -0.80025073, -0.06908934, -0.88050493, -0.62793095],\n",
       "       [-0.22111875, -0.45054074, -0.20467576,  0.65166636, -0.2114702 ]])"
      ]
     },
     "execution_count": 55,
     "metadata": {},
     "output_type": "execute_result"
    }
   ],
   "source": [
    "outsideVectors[indices[1:]]"
   ]
  },
  {
   "cell_type": "code",
   "execution_count": 56,
   "id": "1d727102",
   "metadata": {},
   "outputs": [],
   "source": [
    "def sigmoid(x):\n",
    "    s = 1 / ( 1 + np.exp(-x))\n",
    "    return s"
   ]
  },
  {
   "cell_type": "code",
   "execution_count": null,
   "id": "7983e012",
   "metadata": {},
   "outputs": [],
   "source": []
  },
  {
   "cell_type": "code",
   "execution_count": null,
   "id": "70d2702a",
   "metadata": {},
   "outputs": [],
   "source": []
  },
  {
   "cell_type": "code",
   "execution_count": null,
   "id": "87c5bb9f",
   "metadata": {},
   "outputs": [],
   "source": []
  },
  {
   "cell_type": "code",
   "execution_count": 61,
   "id": "17e8a117",
   "metadata": {},
   "outputs": [
    {
     "data": {
      "text/plain": [
       "array([-0.5644934 , -0.7671127 , -0.72515264, -1.51509674, -1.17591585])"
      ]
     },
     "execution_count": 61,
     "metadata": {},
     "output_type": "execute_result"
    }
   ],
   "source": [
    "gradCenterVec = outsideVectors[indices[0]] * \\\n",
    "    (sigmoid( outsideVectors[indices[0]].dot(centerWordVec) ) - 1) + \\\n",
    "    np.sum( outsideVectors[indices[1:]] * \\\n",
    "    (1 - sigmoid( - outsideVectors[indices[1:]].dot(centerWordVec.reshape(centerWordVec.shape[0],1)) ) ) )\n",
    "gradCenterVec"
   ]
  },
  {
   "cell_type": "code",
   "execution_count": 67,
   "id": "709cf566",
   "metadata": {},
   "outputs": [
    {
     "data": {
      "text/plain": [
       "array([ 0.48651512,  0.28389583,  0.32585588, -0.46408821, -0.12490732])"
      ]
     },
     "execution_count": 67,
     "metadata": {},
     "output_type": "execute_result"
    }
   ],
   "source": [
    "term1 = outsideVectors[indices[0]] * \\\n",
    "    (sigmoid( outsideVectors[indices[0]].dot(centerWordVec) ) - 1)\n",
    "term1"
   ]
  },
  {
   "cell_type": "code",
   "execution_count": 66,
   "id": "6a1f406c",
   "metadata": {},
   "outputs": [
    {
     "data": {
      "text/plain": [
       "array([ 0.09800542, -0.51094357, -0.04411212, -0.56218423, -0.40092095])"
      ]
     },
     "execution_count": 66,
     "metadata": {},
     "output_type": "execute_result"
    }
   ],
   "source": [
    "outsideVectors[indices[2]] * \\\n",
    "    (1 - sigmoid( - outsideVectors[indices[2]].dot(centerWordVec.reshape(centerWordVec.shape[0],1)) ) )"
   ]
  },
  {
   "cell_type": "code",
   "execution_count": 64,
   "id": "b548abe4",
   "metadata": {},
   "outputs": [
    {
     "data": {
      "text/plain": [
       "array([[ 0.2499911 , -0.50277456,  0.69919432,  0.0614972 ,  0.11441984],\n",
       "       [ 0.09800542, -0.51094357, -0.04411212, -0.56218423, -0.40092095],\n",
       "       [-0.12836056, -0.26154119, -0.11881532,  0.37829564, -0.12275953]])"
      ]
     },
     "execution_count": 64,
     "metadata": {},
     "output_type": "execute_result"
    }
   ],
   "source": [
    "outsideVectors[indices[1:]] * \\\n",
    "    (1 - sigmoid( - outsideVectors[indices[1:]].dot(centerWordVec.reshape(centerWordVec.shape[0],1)) ) )"
   ]
  },
  {
   "cell_type": "code",
   "execution_count": 70,
   "id": "87d91896",
   "metadata": {},
   "outputs": [
    {
     "data": {
      "text/plain": [
       "array([ 0.21963595, -1.27525933,  0.53626688, -0.12239138, -0.40926065])"
      ]
     },
     "execution_count": 70,
     "metadata": {},
     "output_type": "execute_result"
    }
   ],
   "source": [
    "np.sum( outsideVectors[indices[1:]] * \\\n",
    "    (1 - sigmoid( - outsideVectors[indices[1:]].dot(centerWordVec.reshape(centerWordVec.shape[0],1)) ) ), axis = 0 )"
   ]
  },
  {
   "cell_type": "code",
   "execution_count": null,
   "id": "6199372e",
   "metadata": {},
   "outputs": [],
   "source": []
  },
  {
   "cell_type": "code",
   "execution_count": null,
   "id": "2e1a67d3",
   "metadata": {},
   "outputs": [],
   "source": []
  },
  {
   "cell_type": "code",
   "execution_count": 76,
   "id": "94e4c28d",
   "metadata": {},
   "outputs": [
    {
     "data": {
      "text/plain": [
       "array([[-0.00588573,  0.32610165, -0.27221372, -0.06010109,  0.13912424],\n",
       "       [-0.00770229,  0.4267493 , -0.35622945, -0.07865062,  0.18206339],\n",
       "       [-0.00700292,  0.38800024, -0.32388363, -0.0715091 ,  0.16553194]])"
      ]
     },
     "execution_count": 76,
     "metadata": {},
     "output_type": "execute_result"
    }
   ],
   "source": [
    "gradOutsideVecs = \\\n",
    "    centerWordVec * \\\n",
    "    ( sigmoid( - outsideVectors[indices[1:]].dot(centerWordVec.reshape(centerWordVec.shape[0],1))) - 1)\n",
    "\n",
    "gradOutsideVecs[outsideWordIdx] = centerWordVec * ( sigmoid( outsideVectors[indices[0]].dot(centerWordVec) ) - 1)\n",
    "gradOutsideVecs"
   ]
  },
  {
   "cell_type": "code",
   "execution_count": 77,
   "id": "1c8e7f1c",
   "metadata": {},
   "outputs": [
    {
     "data": {
      "text/plain": [
       "array([[0.27471798],\n",
       "       [0.36152064],\n",
       "       [0.4194949 ]])"
      ]
     },
     "execution_count": 77,
     "metadata": {},
     "output_type": "execute_result"
    }
   ],
   "source": [
    "sigmoid( - outsideVectors[indices[1:]].dot(centerWordVec.reshape(centerWordVec.shape[0],1)))"
   ]
  },
  {
   "cell_type": "code",
   "execution_count": null,
   "id": "74a09252",
   "metadata": {},
   "outputs": [],
   "source": [
    "for index in indices[1:]:\n",
    "    gradOutsideVecs[index] += centerWordVec * (1 - sigmoid( - outsideVectors[index].dot(centerWordVec) ))\n",
    "    "
   ]
  },
  {
   "cell_type": "code",
   "execution_count": null,
   "id": "8f2f9df6",
   "metadata": {},
   "outputs": [],
   "source": []
  },
  {
   "cell_type": "code",
   "execution_count": null,
   "id": "6b650fa1",
   "metadata": {},
   "outputs": [],
   "source": []
  },
  {
   "cell_type": "code",
   "execution_count": null,
   "id": "c517307b",
   "metadata": {},
   "outputs": [],
   "source": []
  }
 ],
 "metadata": {
  "kernelspec": {
   "display_name": "Python 3",
   "language": "python",
   "name": "python3"
  },
  "language_info": {
   "codemirror_mode": {
    "name": "ipython",
    "version": 3
   },
   "file_extension": ".py",
   "mimetype": "text/x-python",
   "name": "python",
   "nbconvert_exporter": "python",
   "pygments_lexer": "ipython3",
   "version": "3.7.11"
  }
 },
 "nbformat": 4,
 "nbformat_minor": 5
}
